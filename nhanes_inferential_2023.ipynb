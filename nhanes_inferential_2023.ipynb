{
  "nbformat": 4,
  "nbformat_minor": 0,
  "metadata": {
    "colab": {
      "provenance": []
    },
    "kernelspec": {
      "name": "python3",
      "display_name": "Python 3"
    },
    "language_info": {
      "name": "python"
    }
  },
  "cells": [
    {
      "cell_type": "markdown",
      "source": [
        "# Nhanes Inferential HW\n",
        "## Imported the data for the follwing Categories\n",
        "\n",
        "- Marital Status (DMDMARTZ)\n",
        "- Education Level (DMDEDUC2)\n",
        "- Age in Years (RIDAGEYR)\n",
        "- Systolic Blood Pressure (BPXOSY3)\n",
        "- Diastolic Blood Pressure (BPXODI3)\n",
        "- Vitamin D Lab Interpretation (LBDVD2LC)\n",
        "- Hepatitis B Lab Antibodies (LBXHBS)\n",
        "- Weak/Failing Kidneys (KIQ022)\n",
        "- Minutes of Sedentary Behavior (PAD680)\n",
        "- Current Self-Reported Weight (WHD020)"
      ],
      "metadata": {
        "id": "krrIpcehH-k5"
      }
    },
    {
      "cell_type": "code",
      "execution_count": 140,
      "metadata": {
        "collapsed": true,
        "id": "PDiZhDlKPMZg"
      },
      "outputs": [],
      "source": [
        "import pandas as pd\n",
        "\n",
        "from scipy.stats import ttest_rel\n",
        "demo = pd.read_sas('https://wwwn.cdc.gov/Nchs/Nhanes/2021-2022/DEMO_L.XPT', format='xport') #, encoding='latin1')  # Try 'latin1' or 'iso-8859-1' if UTF-8 fails\n",
        "exam = pd.read_sas('https://wwwn.cdc.gov/Nchs/Nhanes/2021-2022/BPXO_L.XPT', format='xport')\n",
        "labd = pd.read_sas('https://wwwn.cdc.gov/Nchs/Nhanes/2021-2022/VID_L.XPT', format='xport')\n",
        "lab_hep = pd.read_sas('https://wwwn.cdc.gov/Nchs/Nhanes/2021-2022/HEPB_S_L.XPT', format='xport')\n",
        "sedentary = pd.read_sas('https://wwwn.cdc.gov/Nchs/Nhanes/2021-2022/PAQ_L.XPT', format='xport')\n",
        "sr_weight = pd.read_sas('https://wwwn.cdc.gov/Nchs/Nhanes/2021-2022/WHQ_L.XPT', format='xport')\n",
        "kidney = pd.read_sas('https://wwwn.cdc.gov/Nchs/Nhanes/2021-2022/KIQ_U_L.XPT', format='xport')\n"
      ]
    },
    {
      "cell_type": "markdown",
      "source": [
        "# Question 1\n",
        "## \"Is there an association between marital status (married or not married) and education level (bachelor’s degree or higher vs. less than a bachelor’s degree)?\"\n",
        "\n",
        "## Steps\n",
        "1. Imported Chi2 package\n",
        "2. Cleaned up married data. Split into 2 categories \"Married\" and \"Not Married\"\n",
        "3. Cleaned up education data. Split into 2 categories \"less than a bachelors\" and \"Bachelors\"\n",
        "4. Used CHI-SQUARED test to see if there was an association between Marital status and education level\n",
        "5. Results showed that there was a significant association between marital status and education level. based on my p-value being < .05"
      ],
      "metadata": {
        "id": "Cbu2E9--Jg3x"
      }
    },
    {
      "cell_type": "code",
      "source": [
        "# Question 1 \"Is there an association between marital status (married or not married) and education level (bachelor’s degree or higher vs. less than a bachelor’s degree)?\"\n",
        "from scipy.stats import chi2_contingency\n",
        "\n",
        "clean_demo_mar = demo.loc[demo['DMDMARTZ'] < 4]\n",
        "clean_demo_mar2 = clean_demo_mar['DMDMARTZ'].replace({1: 'Married', 2: 'Not Married', 3: 'Not Married'})\n",
        "\n",
        "print(clean_demo_mar2.value_counts())\n",
        "clean_demo_edu = demo.loc[demo['DMDEDUC2'] < 6]\n",
        "clean_demo_edu2 = clean_demo_edu['DMDEDUC2'].replace({1: 'Less than a Bachelor’s', 2: 'Less than a Bachelor’s', 3: 'Less than a Bachelor’s', 4: 'Less than a Bachelor’s', 5: 'Bachelor’s'})\n",
        "\n",
        "contingency_table = pd.crosstab(clean_demo_mar2, clean_demo_edu2)\n",
        "contingency_table\n",
        "#demo['DMDEDUC2']\n",
        "\n",
        "stat, p_value, dof, expected = chi2_contingency(contingency_table)\n",
        "print(f\"Chi-squared statistic: {stat}\")\n",
        "print(f\"P-value: {p_value}\")\n",
        "print(\"Expected frequencies:\")\n",
        "print(expected)\n",
        "\n",
        "if p_value > 0.05:\n",
        "    print(\"There is no significant association between marital status and education level.\")\n",
        "else:\n",
        "    print(\"There is a significant association between marital status and education level.\")"
      ],
      "metadata": {
        "colab": {
          "base_uri": "https://localhost:8080/"
        },
        "id": "8A1IvDeVZqdp",
        "outputId": "292f3502-b735-4b74-cac2-720c408da733"
      },
      "execution_count": 143,
      "outputs": [
        {
          "output_type": "stream",
          "name": "stdout",
          "text": [
            "DMDMARTZ\n",
            "Married        4136\n",
            "Not Married    3647\n",
            "Name: count, dtype: int64\n",
            "Chi-squared statistic: 129.17381826322236\n",
            "P-value: 6.213197986632679e-30\n",
            "Expected frequencies:\n",
            "[[1394.13458569 2739.86541431]\n",
            " [1226.86541431 2411.13458569]]\n",
            "There is a significant association between marital status and education level.\n"
          ]
        }
      ]
    },
    {
      "cell_type": "markdown",
      "source": [
        "# Question 2\n",
        "## \"Is there a difference in the mean sedentary behavior time between those who are married and those who are not married?\"\n",
        "\n",
        "## Steps\n",
        "1. Imported ttest package\n",
        "2. Cleaned up married data. Split into 2 categories 1.0 = Married, 2.0 = Not married  \n",
        "3. Cleaned up sedentary behavior removed values 7777, 9999, and null.\n",
        "4. Ran a ttest on data\n",
        "5. Results gave that there was Significant difference between sedentary behavior time between those who are married and those who are not married."
      ],
      "metadata": {
        "id": "DIiaRqVrLe-p"
      }
    },
    {
      "cell_type": "code",
      "source": [
        "# Question 2: \"Is there a difference in the mean sedentary behavior time between those who are married and those who are not married?\"\n",
        "from scipy.stats import ttest_rel\n",
        "\n",
        "clean_demo_mar = demo.loc[demo['DMDMARTZ'] < 4]\n",
        "clean_demo_mar3 = clean_demo_mar['DMDMARTZ'].replace({1: 1.0, 2: 2.0, 3: 2.0})\n",
        "clean_sedentary = sedentary.loc[sedentary['PAD680'] <= 1380]\n",
        "clean_sedentary2 = clean_sedentary['PAD680']\n",
        "\n",
        "stat, p_value = ttest_rel(clean_demo_mar3,clean_sedentary2.head(7783))\n",
        "print(f\"Paired t-Test Statistic: {stat}, p-value: {p_value}\")\n",
        "\n",
        "# Interpretation\n",
        "if p_value > 0.05:\n",
        "    print(\"No significant difference between sedentary behavior time between those who are married and those who are not married.\")\n",
        "else:\n",
        "    print(\"Significant difference between sedentary behavior time between those who are married and those who are not married.\")"
      ],
      "metadata": {
        "colab": {
          "base_uri": "https://localhost:8080/"
        },
        "id": "h3i3DOCkeCBh",
        "outputId": "410ca218-bec0-4c38-b31a-2bf7fed1b785"
      },
      "execution_count": 131,
      "outputs": [
        {
          "output_type": "stream",
          "name": "stdout",
          "text": [
            "Paired t-Test Statistic: -151.21992508249474, p-value: 0.0\n",
            "Significant difference between sedentary behavior time between those who are married and those who are not married.\n"
          ]
        }
      ]
    },
    {
      "cell_type": "markdown",
      "source": [
        "# Question 3\n",
        "\n",
        "## How do age and marital status affect systolic blood pressure?\n",
        "\n",
        "## Steps\n",
        "1. Import neccessary packages\n",
        "2. Create variables for age and blood pressure (Already have data for marital status)\n",
        "3. Run a 2 way anova to see how age and marital status affect systolic blood pressure.\n",
        "4. Based on the results p-value is < .05 therefor we can conclude age and marital status have affect on systolic blood pressure"
      ],
      "metadata": {
        "id": "1GGdzH7zNY0r"
      }
    },
    {
      "cell_type": "code",
      "source": [
        "# Question 3: \"How do age and marital status affect systolic blood pressure?\"\n",
        "import statsmodels.api as sm\n",
        "from statsmodels.formula.api import ols\n",
        "\n",
        "Demo_age = demo['RIDAGEYR']\n",
        "clean_demo_mar3\n",
        "\n",
        "exam_sys = exam['BPXOSY3']\n",
        "exam_sys2 = exam_sys.dropna()\n",
        "\n",
        "anova_table = pd.concat([Demo_age, clean_demo_mar3, exam_sys2], axis=1)\n",
        "anova_table\n",
        "\n",
        "model = ols('BPXOSY3 ~ RIDAGEYR + DMDMARTZ', data=anova_table).fit()\n",
        "table = sm.stats.anova_lm(model, typ=2)\n",
        "print(table)\n",
        "print(model.summary())\n",
        "\n",
        "if p_value > 0.05:\n",
        "    print(\"No significant affectivness between age and marital status on systolic blood pressure.\")\n",
        "else:\n",
        "    print(\"Significant affectiveness between age and marital status on systolic blood pressure.\")\n"
      ],
      "metadata": {
        "colab": {
          "base_uri": "https://localhost:8080/"
        },
        "id": "OzXfXRKBraaM",
        "outputId": "9c66738d-ce7b-4ee3-ca68-d1875198853b"
      },
      "execution_count": 137,
      "outputs": [
        {
          "output_type": "stream",
          "name": "stdout",
          "text": [
            "                sum_sq      df         F    PR(>F)\n",
            "RIDAGEYR  1.073427e+02     1.0  0.306684  0.579748\n",
            "DMDMARTZ  3.193353e+00     1.0  0.009124  0.923908\n",
            "Residual  1.705604e+06  4873.0       NaN       NaN\n",
            "                            OLS Regression Results                            \n",
            "==============================================================================\n",
            "Dep. Variable:                BPXOSY3   R-squared:                       0.000\n",
            "Model:                            OLS   Adj. R-squared:                 -0.000\n",
            "Method:                 Least Squares   F-statistic:                    0.1561\n",
            "Date:                Tue, 05 Nov 2024   Prob (F-statistic):              0.856\n",
            "Time:                        16:51:22   Log-Likelihood:                -21199.\n",
            "No. Observations:                4876   AIC:                         4.240e+04\n",
            "Df Residuals:                    4873   BIC:                         4.242e+04\n",
            "Df Model:                           2                                         \n",
            "Covariance Type:            nonrobust                                         \n",
            "==============================================================================\n",
            "                 coef    std err          t      P>|t|      [0.025      0.975]\n",
            "------------------------------------------------------------------------------\n",
            "Intercept    118.4396      1.191     99.413      0.000     116.104     120.775\n",
            "RIDAGEYR       0.0085      0.015      0.554      0.580      -0.022       0.039\n",
            "DMDMARTZ       0.0513      0.538      0.096      0.924      -1.002       1.105\n",
            "==============================================================================\n",
            "Omnibus:                      799.260   Durbin-Watson:                   2.031\n",
            "Prob(Omnibus):                  0.000   Jarque-Bera (JB):             1620.841\n",
            "Skew:                           0.987   Prob(JB):                         0.00\n",
            "Kurtosis:                       5.020   Cond. No.                         264.\n",
            "==============================================================================\n",
            "\n",
            "Notes:\n",
            "[1] Standard Errors assume that the covariance matrix of the errors is correctly specified.\n",
            "Significant affectiveness between age and marital status on systolic blood pressure.\n"
          ]
        }
      ]
    },
    {
      "cell_type": "markdown",
      "source": [
        "# Question 4\n",
        "## Is there a correlation between self-reported weight and minutes of sedentary behavior?\n",
        "\n",
        "## Steps\n",
        "1. Import packages for both correlation tests\n",
        "2. Clean data weight data does not contain values 7777, 9999, and null\n",
        "3. Use clean sedentary data created from above\n",
        "4. Run Person correlation test\n",
        "5. Based on results did not see any significant correlation between self-reported weight and minutes of sedentary behavior.\n",
        "6. Try to run spearmen correlation\n",
        "7. Still got No significant correlation between self-reported weight and minutes of sedentary behavior.\n",
        "\n",
        "## Note: I used the head function to make my arrays equal before the test was run. Will this significantly affect the results of the tests I run?\n",
        "\n",
        "\n"
      ],
      "metadata": {
        "id": "aR5Na6iIPs-n"
      }
    },
    {
      "cell_type": "code",
      "source": [
        "# Question 4: \"Is there a correlation between self-reported weight and minutes of sedentary behavior?\"\n",
        "\n",
        "from scipy.stats import pearsonr\n",
        "from scipy.stats import spearmanr\n",
        "clean_sr_weight = sr_weight.loc[sr_weight['WHD020'] <= 530]\n",
        "clean_sr_weight2 = clean_sr_weight['WHD020']\n",
        "\n",
        "clean_sedentary2 = clean_sedentary['PAD680']\n",
        "\n",
        "# Calculate Pearson correlation\n",
        "correlation, p_value = pearsonr(clean_sedentary2, clean_sr_weight2.head(8065))\n",
        "print(f\"Correlation coefficient: {correlation}, p-value: {p_value}\")\n",
        "\n",
        "# Interpretation\n",
        "if p_value > 0.05:\n",
        "    print(\"No significant correlation between self-reported weight and minutes of sedentary behavior.\")\n",
        "else:\n",
        "    print(\"Significant correlation between self-reported weight and minutes of sedentary behavior.\")\n",
        "\n",
        "\n",
        "# Calculate Spearman correlation\n",
        "corr, p_value = spearmanr(clean_sedentary2, clean_sr_weight2.head(8065))\n",
        "print(f\"Spearman Correlation Coefficient: {corr}, p-value: {p_value}\")\n",
        "\n",
        "# Interpretation\n",
        "if p_value > 0.05:\n",
        "    print(\"No significant monotonic relationship.\")\n",
        "else:\n",
        "    print(\"Significant monotonic relationship.\")"
      ],
      "metadata": {
        "colab": {
          "base_uri": "https://localhost:8080/"
        },
        "id": "tSLFRuSWyMjP",
        "outputId": "6cd33d6f-965c-4e8a-e218-da3b1f0179cd"
      },
      "execution_count": 138,
      "outputs": [
        {
          "output_type": "stream",
          "name": "stdout",
          "text": [
            "Correlation coefficient: -0.000772437025182364, p-value: 0.944704475162349\n",
            "No significant correlation between self-reported weight and minutes of sedentary behavior.\n",
            "Spearman Correlation Coefficient: -3.17674278940831e-05, p-value: 0.9977240831576109\n",
            "No significant monotonic relationship.\n"
          ]
        }
      ]
    },
    {
      "cell_type": "markdown",
      "source": [
        "# Question 5\n",
        "## Is there a correlation between Systolic blood pressure and weak/failing kidneys?\n",
        "\n",
        "### Reason for this test generally uncontrolled high systolic blood pressure can lead to kidney disease.\n",
        "\n",
        "## Steps\n",
        "1. import t-test package\n",
        "2. clean kidney data into 2 categories 1.0 = Yes, 2.0 = No\n",
        "3. Use previously cleaned systolic blood pressure\n",
        "4. Run t-test\n",
        "5. based on t-test I got that there was a Significant correlation between Systolic blood pressure and weak/failing kidneys.\n",
        "\n",
        "## Note: I used the head function to make my arrays equal before the test was run. Will this significantly affect the results of the tests I run?"
      ],
      "metadata": {
        "id": "4QXWhS07SoFI"
      }
    },
    {
      "cell_type": "code",
      "source": [
        "# Question 5: \"Is there a correlation between Systolic blood pressure and weak/failing kidneys?\"\n",
        "from scipy.stats import ttest_rel\n",
        "clean_kidney = kidney.loc[kidney['KIQ022'] < 3]\n",
        "clean_kidney = clean_kidney['KIQ022']\n",
        "#print(clean_kidney.count())\n",
        "#print(exam_sys2.count())\n",
        "\n",
        "\n",
        "stat, p_value = ttest_rel(exam_sys2, clean_kidney.head(7480))\n",
        "print(f\"Correlation coefficient: {correlation}, p-value: {p_value}\")\n",
        "\n",
        "# Interpretation\n",
        "if p_value > 0.05:\n",
        "    print(\"No significant correlation between Systolic blood pressure and weak/failing kidneys.\")\n",
        "else:\n",
        "    print(\"Significant correlation between Systolic blood pressure and weak/failing kidneys.\")\n"
      ],
      "metadata": {
        "colab": {
          "base_uri": "https://localhost:8080/"
        },
        "id": "y4roUdUp1sHX",
        "outputId": "f69debfe-5892-406d-a263-21347120785c"
      },
      "execution_count": 142,
      "outputs": [
        {
          "output_type": "stream",
          "name": "stdout",
          "text": [
            "7794\n",
            "7480\n",
            "Correlation coefficient: -0.000772437025182364, p-value: 0.0\n",
            "Significant correlation between Systolic blood pressure and weak/failing kidneys.\n"
          ]
        }
      ]
    }
  ]
}